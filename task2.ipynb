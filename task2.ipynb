{
 "cells": [
  {
   "cell_type": "code",
   "execution_count": null,
   "id": "995323c5-cbaa-412e-b1d7-427b7eb48cd8",
   "metadata": {},
   "outputs": [],
   "source": [
    "# 📦 Import libraries\n",
    "import pandas as pd\n",
    "import numpy as np\n",
    "import seaborn as sns\n",
    "import matplotlib.pyplot as plt\n",
    "\n",
    "# 📁 Load dataset\n",
    "df = pd.read_csv(\"Titanic-Dataset (2).csv\")\n",
    "\n",
    "# 👀 Initial inspection\n",
    "print(df.head())\n",
    "print(\"Shape:\", df.shape)\n",
    "print(df.info())\n",
    "print(df.describe())\n",
    "\n",
    "# 🧹 Check missing values\n",
    "print(df.isnull().sum())\n",
    "\n",
    "# 🧽 Fill missing values (correct way for future versions)\n",
    "df.fillna({'Age': df['Age'].median(), 'Embarked': df['Embarked'].mode()[0]}, inplace=True)\n",
    "\n",
    "# 🗑 Drop 'Cabin' column (correct spelling)\n",
    "df.drop('Cabin', axis=1, inplace=True)\n",
    "\n",
    "# ✅ Check again after cleaning\n",
    "print(df.isnull().sum())\n",
    "# 📉 Histograms\n",
    "df.hist(figsize=(10, 8))\n",
    "plt.tight_layout()\n",
    "plt.show()\n",
    "# 📦 Boxplots for Age and Fare vs Survived\n",
    "sns.boxplot(x='Survived', y='Age', data=df)\n",
    "plt.title('Age vs Survival')\n",
    "plt.show()\n",
    "\n",
    "sns.boxplot(x='Survived', y='Fare', data=df)\n",
    "plt.title('Fare vs Survival')\n",
    "plt.show()\n",
    "# 👥 Countplot: Survival by Gender\n",
    "sns.countplot(x='Survived', hue='Sex', data=df)\n",
    "plt.title('Survival by Sex')\n",
    "plt.show()\n",
    "# 🔗 Correlation Matrix\n",
    "plt.figure(figsize=(10, 6))\n",
    "sns.heatmap(df.corr(), annot=True, cmap='coolwarm')\n",
    "plt.title('Correlation Heatmap')\n",
    "plt.show()\n",
    "# 📌 Pairplot for key numerical features\n",
    "sns.pairplot(df[['Survived', 'Pclass', 'Age', 'Fare']])\n",
    "plt.show()\n",
    "# 📏 Check skewness (optional)\n",
    "print(df.skew())\n"
   ]
  }
 ],
 "metadata": {
  "kernelspec": {
   "display_name": "Python 3 (ipykernel)",
   "language": "python",
   "name": "python3"
  },
  "language_info": {
   "codemirror_mode": {
    "name": "ipython",
    "version": 3
   },
   "file_extension": ".py",
   "mimetype": "text/x-python",
   "name": "python",
   "nbconvert_exporter": "python",
   "pygments_lexer": "ipython3",
   "version": "3.11.4"
  }
 },
 "nbformat": 4,
 "nbformat_minor": 5
}
